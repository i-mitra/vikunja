{
 "cells": [
  {
   "cell_type": "markdown",
   "metadata": {},
   "source": [
    "We are only interested in the html element that contains the text. remove all the others\n",
    "\n",
    "To activate the environment:\n",
    "conda activate vikunja-data\n",
    "\n",
    "What to return from LLM?\n",
    "- user instrucions\n",
    "- element to be highlighted\n",
    "\n",
    "We are looking for:\n",
    "- min element to locate it\n",
    "- remove svg, styles, scripts, etc.\n",
    "    - path within svg, but keep others"
   ]
  },
  {
   "cell_type": "markdown",
   "metadata": {},
   "source": [
    "# Return a more concise version of the html \n",
    "- we will feed that cleaned html file into the LLM\n",
    "- keep the DOM tree structure to provide more context for LLM\n",
    "- the expected interaction with LLMis:\n",
    "    - input: the cleaned html + prompt: \"show the user how to do {requirement}\"\n",
    "    - output: instructions + the html element to be highlighted"
   ]
  },
  {
   "cell_type": "code",
   "execution_count": 31,
   "metadata": {},
   "outputs": [],
   "source": [
    "from bs4 import BeautifulSoup\n",
    "\n",
    "def make_soup(input_path):\n",
    "    with open(input_path, 'r') as file:\n",
    "        html_content = file.read()\n",
    "    soup = BeautifulSoup(html_content, 'html.parser')\n",
    "    if not soup:\n",
    "        print(\"Failed to parse HTML\")\n",
    "        exit()\n",
    "    return soup\n",
    "\n",
    "def clean_tags(soup):\n",
    "    # remove all style tags\n",
    "    for style_tag in soup.find_all('style'):\n",
    "        style_tag.decompose()\n",
    "\n",
    "    # remove all script tags\n",
    "    for script_tag in soup.find_all('script'):\n",
    "        script_tag.decompose()\n",
    "\n",
    "    # remove <path> within <svg>\n",
    "    for svg_tag in soup.find_all('svg'):\n",
    "        for path_tag in svg_tag.find_all('path'):\n",
    "            path_tag.decompose()\n",
    "    \n",
    "    return soup\n",
    "\n",
    "\n",
    "def clean_tag_attributes(soup):\n",
    "    \"\"\"\n",
    "    only keep the class and unique vue identifier for each element\n",
    "    \"\"\"\n",
    "    for tag in soup.find_all(True): \n",
    "        attrs = dict(tag.attrs)\n",
    "        new_attrs = {}\n",
    "        \n",
    "        # Keep class attributes\n",
    "        if 'class' in attrs:\n",
    "            new_attrs['class'] = attrs['class']\n",
    "        # Keep Vue.js component identifiers (data-v-*)\n",
    "        for attr in attrs:\n",
    "            if attr.startswith('data-v-'):\n",
    "                new_attrs[attr] = attrs[attr]\n",
    "\n",
    "        tag.attrs = new_attrs\n",
    "\n",
    "    return soup\n",
    "\n",
    "def export_soup(soup, output_path):\n",
    "    cleaned_html = soup.prettify()\n",
    "    with open(output_path, 'w') as file:\n",
    "        file.write(cleaned_html)\n",
    "\n",
    "    print(f\"Cleaned HTML file saved to {output_path}\")"
   ]
  },
  {
   "cell_type": "code",
   "execution_count": 32,
   "metadata": {},
   "outputs": [
    {
     "name": "stdout",
     "output_type": "stream",
     "text": [
      "Cleaned HTML file saved to data/Current_Tasks_Vikunja_files/Current_Tasks_Vikunja_cleaned.html\n"
     ]
    }
   ],
   "source": [
    "file_name = \"Current_Tasks_Vikunja.html\"\n",
    "input_path = \"data/Current_Tasks_Vikunja_files/\" + file_name\n",
    "output_path = input_path.replace(\".html\", \"_cleaned.html\")\n",
    "\n",
    "soup = make_soup(input_path)\n",
    "soup = clean_tags(soup)\n",
    "soup = clean_tag_attributes(soup)\n",
    "export_soup(soup, output_path)"
   ]
  },
  {
   "cell_type": "markdown",
   "metadata": {},
   "source": [
    "# Return elements that contain the text we are interested in"
   ]
  },
  {
   "cell_type": "code",
   "execution_count": 33,
   "metadata": {},
   "outputs": [
    {
     "name": "stdout",
     "output_type": "stream",
     "text": [
      "Elements found:  2\n",
      "Import your projects and tasks from\n",
      "                other services into Vikunja:\n",
      "Import your\n",
      "                data into Vikunja\n",
      "Elements with tags:  2\n",
      "<p class=\"mt-4\" data-v-746c9d2b=\"\">Import your projects and tasks from\n",
      "                other services into Vikunja:</p>\n",
      "<a class=\"base-button button is-primary has-no-shadow\" data-v-746c9d2b=\"\" data-v-fefdc249=\"\" href=\"http://localhost:3456/user/settings/migrate\" style=\"--button-white-space: break-spaces;\"><!-- -->Import your\n",
      "                data into Vikunja</a>\n"
     ]
    }
   ],
   "source": [
    "# BeautifulSoup offers multiple parsers, with 'html.parser' (built-in), 'lxml' (faster), and 'html5lib' (most accurate) being the common options.\n",
    "\n",
    "from bs4 import BeautifulSoup\n",
    "\n",
    "# File path\n",
    "file_path = \"data/Current_Tasks_Vikunja_files/Current_Tasks_Vikunja.html\" \n",
    "\n",
    "# Parse HTML from a string\n",
    "with open(file_path, 'r') as file:\n",
    "    html_content = file.read()\n",
    "soup = BeautifulSoup(html_content, 'html.parser')\n",
    "\n",
    "if not soup:\n",
    "    print(\"Failed to parse HTML\")\n",
    "    exit()  \n",
    "\n",
    "# First find and remove all style tags\n",
    "for style_tag in soup.find_all('style'):\n",
    "    style_tag.decompose()\n",
    "\n",
    "# # Find all elements that have some text content (not empty)\n",
    "# elements_with_text = [element for element in soup.find_all() if element.string and element.string.strip()]\n",
    "\n",
    "text = \"import\"\n",
    "\n",
    "# Find elements containing text with partial match (using a function)\n",
    "elements = soup.find_all(string=lambda t: text in t.lower())\n",
    "\n",
    "# Display\n",
    "print(\"Elements found: \", len(elements))\n",
    "\n",
    "for element in elements:\n",
    "    print(element)\n",
    "\n",
    "# Then get their parent elements\n",
    "elements_with_tags = [e.parent for e in elements]\n",
    "\n",
    "# Display\n",
    "print(\"Elements with tags: \", len(elements_with_tags))\n",
    "\n",
    "for element in elements_with_tags:\n",
    "    print(element)\n"
   ]
  }
 ],
 "metadata": {
  "kernelspec": {
   "display_name": "vikunja-data",
   "language": "python",
   "name": "python3"
  },
  "language_info": {
   "codemirror_mode": {
    "name": "ipython",
    "version": 3
   },
   "file_extension": ".py",
   "mimetype": "text/x-python",
   "name": "python",
   "nbconvert_exporter": "python",
   "pygments_lexer": "ipython3",
   "version": "3.10.16"
  }
 },
 "nbformat": 4,
 "nbformat_minor": 2
}
